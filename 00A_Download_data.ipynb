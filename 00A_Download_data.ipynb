{
 "cells": [
  {
   "cell_type": "code",
   "execution_count": 2,
   "id": "cc1dbda6-d893-4a19-a4fd-ac788d30bf0a",
   "metadata": {},
   "outputs": [],
   "source": [
    "#!pip install opendatasets --upgrade --quiet"
   ]
  },
  {
   "cell_type": "markdown",
   "id": "3e61987e-2717-49cc-8b93-688875593db7",
   "metadata": {},
   "source": [
    "### Importing data from Kaggle"
   ]
  },
  {
   "cell_type": "code",
   "execution_count": 3,
   "id": "97261a15-55e2-40eb-9e78-816ff83a1ba8",
   "metadata": {},
   "outputs": [],
   "source": [
    "#Import dataset\n",
    "import pandas as pd\n",
    "import os\n",
    "import opendatasets as od\n",
    "#https://ravi-chan.medium.com/how-to-download-any-data-set-from-kaggle-7e2adc152d7f\n",
    "\n",
    "\n",
    "#Global values\n",
    "API_key={\"username\":\"marcustxz\",\"key\":\"b155b6df450b5971abd208694f260e4c\"}"
   ]
  },
  {
   "cell_type": "code",
   "execution_count": 15,
   "id": "7998e8a8-9616-4f5c-aa85-d8112fda6186",
   "metadata": {},
   "outputs": [
    {
     "name": "stdout",
     "output_type": "stream",
     "text": [
      "Please provide your Kaggle credentials to download this dataset. Learn more: http://bit.ly/kaggle-creds\n",
      "Your Kaggle username:"
     ]
    },
    {
     "name": "stdin",
     "output_type": "stream",
     "text": [
      "  marcustxz\n"
     ]
    },
    {
     "name": "stdout",
     "output_type": "stream",
     "text": [
      "Your Kaggle Key:"
     ]
    },
    {
     "name": "stdin",
     "output_type": "stream",
     "text": [
      "  ········\n"
     ]
    },
    {
     "name": "stdout",
     "output_type": "stream",
     "text": [
      "Downloading heart-attack-risk-analysis.zip to .\\heart-attack-risk-analysis\n"
     ]
    },
    {
     "name": "stderr",
     "output_type": "stream",
     "text": [
      "100%|██████████| 527k/527k [00:00<00:00, 704kB/s]"
     ]
    },
    {
     "name": "stdout",
     "output_type": "stream",
     "text": [
      "\n",
      "Extracting archive .\\heart-attack-risk-analysis/heart-attack-risk-analysis.zip to .\\heart-attack-risk-analysis\n"
     ]
    },
    {
     "name": "stderr",
     "output_type": "stream",
     "text": [
      "\n"
     ]
    }
   ],
   "source": [
    "##Download data\n",
    "\n",
    "# Assign the Kaggle data set URL into variable\n",
    "dataset = 'https://www.kaggle.com/competitions/heart-attack-risk-analysis/heart-attack-risk-analysis'\n",
    "# Using opendatasets let's download the data sets\n",
    "od.download(dataset)\n",
    "\n"
   ]
  },
  {
   "cell_type": "code",
   "execution_count": 18,
   "id": "c24f10af-c88e-4b13-9625-535a12699235",
   "metadata": {},
   "outputs": [],
   "source": [
    "data_dir = '.\\heart-attack-risk-analysis'\n",
    "sample,test,train=os.listdir(data_dir)"
   ]
  },
  {
   "cell_type": "code",
   "execution_count": null,
   "id": "ec2a1d7e-5fb5-4fbb-a52d-a8771959f5f0",
   "metadata": {},
   "outputs": [],
   "source": []
  }
 ],
 "metadata": {
  "kernelspec": {
   "display_name": "Python 3 (ipykernel)",
   "language": "python",
   "name": "python3"
  },
  "language_info": {
   "codemirror_mode": {
    "name": "ipython",
    "version": 3
   },
   "file_extension": ".py",
   "mimetype": "text/x-python",
   "name": "python",
   "nbconvert_exporter": "python",
   "pygments_lexer": "ipython3",
   "version": "3.11.7"
  }
 },
 "nbformat": 4,
 "nbformat_minor": 5
}
